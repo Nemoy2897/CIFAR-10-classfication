{
 "cells": [
  {
   "cell_type": "code",
   "execution_count": 77,
   "metadata": {},
   "outputs": [],
   "source": [
    "import math\n",
    "import pickle\n",
    "import tensorflow as tf\n",
    "import numpy as np\n",
    "import matplotlib.pyplot as plt\n",
    "from tensorflow.python.framework import ops\n",
    "from PIL import Image\n",
    "import scipy\n",
    "from scipy import ndimage\n",
    "%matplotlib inline\n",
    "np.random.seed(1)"
   ]
  },
  {
   "cell_type": "code",
   "execution_count": 78,
   "metadata": {},
   "outputs": [],
   "source": [
    "cifar_dataset_path='C:/Users/Pranav Nema/Desktop/Projects/Deep Learning/cifar-10-batches-py'"
   ]
  },
  {
   "cell_type": "code",
   "execution_count": 79,
   "metadata": {},
   "outputs": [],
   "source": [
    "def load_cifar10_batch(cifar_dataset_path,batch_id):\n",
    "    with open(cifar_dataset_path + '/data_batch_'+ str(batch_id), mode='rb') as file:\n",
    "              # trying with Ncoding latin1\n",
    "              batch = pickle.load(file,encoding='latin1')\n",
    "    features = batch['data'].reshape(len(batch['data']),3,32,32).transpose(0,2,3,1)\n",
    "    labels=np.array(batch['labels'])\n",
    "    \n",
    "    return features,labels"
   ]
  },
  {
   "cell_type": "code",
   "execution_count": 80,
   "metadata": {},
   "outputs": [],
   "source": [
    "def load_label_names():\n",
    "    return ['airplane', 'automobile', 'bird', 'cat', 'deer', 'dog', 'frog', 'horse', 'ship', 'truck']\n"
   ]
  },
  {
   "cell_type": "code",
   "execution_count": 81,
   "metadata": {},
   "outputs": [],
   "source": [
    "def display_stats(path,batch_id,sample_id):\n",
    "    features, labels = load_cifar10_batch(path, batch_id)\n",
    "\n",
    "    if not (0 <= sample_id < len(features)):\n",
    "        print('{} samples in batch {}.  {} is out of range.'.format(len(features), batch_id, sample_id))\n",
    "        return None\n",
    "\n",
    "    print('\\nStats of batch #{}:'.format(batch_id))\n",
    "    print('# of Samples: {}\\n'.format(len(features)))\n",
    "\n",
    "    label_names = load_label_names()\n",
    "    label_counts = dict(zip(*np.unique(labels, return_counts=True)))\n",
    "    for key, value in label_counts.items():\n",
    "        print('Label Counts of [{}]({}) : {}'.format(key, label_names[key].upper(), value))\n",
    "\n",
    "    sample_image = features[sample_id]\n",
    "    sample_label = labels[sample_id]\n",
    "\n",
    "    print('\\nExample of Image {}:'.format(sample_id))\n",
    "    print('Image - Min Value: {} Max Value: {}'.format(sample_image.min(), sample_image.max()))\n",
    "    print('Image - Shape: {}'.format(sample_image.shape))\n",
    "    print('Label - Label Id: {} Name: {}'.format(sample_label, label_names[sample_label]))"
   ]
  },
  {
   "cell_type": "code",
   "execution_count": 82,
   "metadata": {},
   "outputs": [
    {
     "name": "stdout",
     "output_type": "stream",
     "text": [
      "\n",
      "Stats of batch #5:\n",
      "# of Samples: 10000\n",
      "\n",
      "Label Counts of [0](AIRPLANE) : 1014\n",
      "Label Counts of [1](AUTOMOBILE) : 1014\n",
      "Label Counts of [2](BIRD) : 952\n",
      "Label Counts of [3](CAT) : 1016\n",
      "Label Counts of [4](DEER) : 997\n",
      "Label Counts of [5](DOG) : 1025\n",
      "Label Counts of [6](FROG) : 980\n",
      "Label Counts of [7](HORSE) : 977\n",
      "Label Counts of [8](SHIP) : 1003\n",
      "Label Counts of [9](TRUCK) : 1022\n",
      "\n",
      "Example of Image 7000:\n",
      "Image - Min Value: 21 Max Value: 254\n",
      "Image - Shape: (32, 32, 3)\n",
      "Label - Label Id: 8 Name: ship\n"
     ]
    }
   ],
   "source": [
    "batch_id=5\n",
    "sample_id = 7000\n",
    "display_stats(cifar_dataset_path,batch_id,sample_id)"
   ]
  },
  {
   "cell_type": "code",
   "execution_count": 54,
   "metadata": {},
   "outputs": [],
   "source": [
    "def one_hot(a, num_classes):\n",
    "  return np.squeeze(np.eye(num_classes)[a.reshape(-1)]).T"
   ]
  },
  {
   "cell_type": "code",
   "execution_count": 55,
   "metadata": {},
   "outputs": [],
   "source": [
    "def preprocess_data(features, labels):\n",
    "    features=features/255.\n",
    "    labels=one_hot(labels,10).T\n",
    "    \n",
    "    return features,labels"
   ]
  },
  {
   "cell_type": "code",
   "execution_count": 56,
   "metadata": {},
   "outputs": [
    {
     "name": "stdout",
     "output_type": "stream",
     "text": [
      "training input dataset is of shape: (10000, 32, 32, 3)\n",
      "training label dataset is of shape: (10000, 10)\n"
     ]
    }
   ],
   "source": [
    "features,labels= load_cifar10_batch(cifar_dataset_path,2)\n",
    "X_train,Y_train = preprocess_data(features, labels)\n",
    "\n",
    "print(\"training input dataset is of shape: \" + str(X_train.shape))\n",
    "print(\"training label dataset is of shape: \" + str(Y_train.shape))"
   ]
  },
  {
   "cell_type": "code",
   "execution_count": 57,
   "metadata": {},
   "outputs": [
    {
     "name": "stdout",
     "output_type": "stream",
     "text": [
      "[[[0.13333333 0.20392157 0.15686275]\n",
      "  [0.13333333 0.2        0.15294118]\n",
      "  [0.1254902  0.19215686 0.14509804]\n",
      "  ...\n",
      "  [0.29411765 0.32941176 0.21568627]\n",
      "  [0.28235294 0.31372549 0.20784314]\n",
      "  [0.28627451 0.30588235 0.21960784]]\n",
      "\n",
      " [[0.18039216 0.23921569 0.16862745]\n",
      "  [0.17254902 0.23529412 0.16470588]\n",
      "  [0.16470588 0.22745098 0.15686275]\n",
      "  ...\n",
      "  [0.29019608 0.3254902  0.21960784]\n",
      "  [0.2745098  0.30980392 0.20392157]\n",
      "  [0.26666667 0.29803922 0.20784314]]\n",
      "\n",
      " [[0.26666667 0.31764706 0.23137255]\n",
      "  [0.2627451  0.31372549 0.22352941]\n",
      "  [0.24705882 0.29803922 0.20784314]\n",
      "  ...\n",
      "  [0.2745098  0.30588235 0.21176471]\n",
      "  [0.25490196 0.28627451 0.19215686]\n",
      "  [0.24313725 0.27843137 0.18431373]]\n",
      "\n",
      " ...\n",
      "\n",
      " [[0.29019608 0.36078431 0.26666667]\n",
      "  [0.3254902  0.39607843 0.30196078]\n",
      "  [0.34117647 0.41176471 0.31764706]\n",
      "  ...\n",
      "  [0.24705882 0.30588235 0.23137255]\n",
      "  [0.2745098  0.32941176 0.25882353]\n",
      "  [0.29019608 0.3254902  0.27058824]]\n",
      "\n",
      " [[0.2627451  0.3372549  0.24313725]\n",
      "  [0.27058824 0.34901961 0.25490196]\n",
      "  [0.29411765 0.36862745 0.2745098 ]\n",
      "  ...\n",
      "  [0.23921569 0.31764706 0.23921569]\n",
      "  [0.24313725 0.30980392 0.23921569]\n",
      "  [0.24313725 0.28235294 0.22745098]]\n",
      "\n",
      " [[0.21960784 0.29019608 0.22745098]\n",
      "  [0.23529412 0.30196078 0.24313725]\n",
      "  [0.23137255 0.29803922 0.23921569]\n",
      "  ...\n",
      "  [0.23529412 0.30588235 0.23529412]\n",
      "  [0.22745098 0.29411765 0.23137255]\n",
      "  [0.23137255 0.28627451 0.22745098]]]\n"
     ]
    }
   ],
   "source": [
    "print(X_train[50])"
   ]
  },
  {
   "cell_type": "code",
   "execution_count": 58,
   "metadata": {},
   "outputs": [],
   "source": [
    "def create_placeholders(n_H, n_W, n_C, n_y):\n",
    "    X=tf.placeholder(tf.float32, shape= (None,n_H, n_W, n_C), name = \"X\")\n",
    "    Y=tf.placeholder(tf.float32, shape = (None,n_y) , name = \"Y\")\n",
    "    \n",
    "    return X,Y"
   ]
  },
  {
   "cell_type": "code",
   "execution_count": 67,
   "metadata": {},
   "outputs": [],
   "source": [
    "def init_params():\n",
    "    W1=tf.get_variable(\"W1\",[3,3,3,64],initializer = tf.contrib.layers.xavier_initializer(seed=0))\n",
    "    W2=tf.get_variable(\"W2\",[3,3,64,128],initializer = tf.contrib.layers.xavier_initializer(seed=0))\n",
    "    W3=tf.get_variable(\"W3\",[4,4,128,256],initializer = tf.contrib.layers.xavier_initializer(seed=0))\n",
    "    W4=tf.get_variable(\"W4\",[3,3,256,512], initializer = tf.contrib.layers.xavier_initializer(seed=0))\n",
    "    parameters={\"W1\":W1,\"W2\":W2,\"W3\":W3, \"W4\":W4}\n",
    "    \n",
    "    return parameters"
   ]
  },
  {
   "cell_type": "markdown",
   "metadata": {},
   "source": [
    "### 1.2 - Forward propagation\n",
    "\n",
    "In TensorFlow, there are built-in functions that carry out the convolution steps for you.\n",
    "\n",
    "- **tf.nn.conv2d(X,W1, strides = [1,s,s,1], padding = 'SAME'):** given an input $X$ and a group of filters $W1$, this function convolves $W1$'s filters on X. The third input ([1,f,f,1]) represents the strides for each dimension of the input (m, n_H_prev, n_W_prev, n_C_prev). You can read the full documentation [here](https://www.tensorflow.org/api_docs/python/tf/nn/conv2d)\n",
    "\n",
    "- **tf.nn.max_pool(A, ksize = [1,f,f,1], strides = [1,s,s,1], padding = 'SAME'):** given an input A, this function uses a window of size (f, f) and strides of size (s, s) to carry out max pooling over each window. You can read the full documentation [here](https://www.tensorflow.org/api_docs/python/tf/nn/max_pool)\n",
    "\n",
    "- **tf.nn.relu(Z1):** computes the elementwise ReLU of Z1 (which can be any shape). You can read the full documentation [here.](https://www.tensorflow.org/api_docs/python/tf/nn/relu)\n",
    "\n",
    "- **tf.contrib.layers.flatten(P)**: given an input P, this function flattens each example into a 1D vector it while maintaining the batch-size. It returns a flattened tensor with shape [batch_size, k]. You can read the full documentation [here.](https://www.tensorflow.org/api_docs/python/tf/contrib/layers/flatten)\n",
    "\n",
    "- **tf.contrib.layers.fully_connected(F, num_outputs):** given a the flattened input F, it returns the output computed using a fully connected layer. You can read the full documentation [here.](https://www.tensorflow.org/api_docs/python/tf/contrib/layers/fully_connected)\n",
    "\n",
    "In the last function above (`tf.contrib.layers.fully_connected`), the fully connected layer automatically initializes weights in the graph and keeps on training them as you train the model. Hence, you did not need to initialize those weights when initializing the parameters. \n"
   ]
  },
  {
   "cell_type": "code",
   "execution_count": 68,
   "metadata": {},
   "outputs": [],
   "source": [
    "def forward_propagation(X,parameters):\n",
    "    W1 = parameters[\"W1\"]\n",
    "    W2 = parameters[\"W2\"]\n",
    "    W3 = parameters[\"W3\"]\n",
    "    W4 = parameters[\"W4\"]\n",
    "    \n",
    "    #this is layer 1\n",
    "    Z1 = tf.nn.conv2d(X,W1,strides = [1,1,1,1], padding=\"SAME\")\n",
    "    # activation for layer 1\n",
    "    A1 = tf.nn.relu(Z1)\n",
    "    #maxpool for layer 1 activation\n",
    "    P1=tf.nn.max_pool(A1, ksize = [1,8,8,1], strides = [1,8,8,1], padding = \"SAME\")\n",
    "    #batch normalization for layer 1\n",
    "    B1 = tf.layers.batch_normalization(P1)\n",
    "    \n",
    "    #this is layer 2\n",
    "    Z2 = tf.nn.conv2d(B1, W2, strides = [1,1,1,1], padding = \"SAME\")\n",
    "    #activation for layer 2\n",
    "    A2 = tf.nn.relu(Z2)\n",
    "     #maxpool for layer 2 activation\n",
    "    P2=tf.nn.max_pool(A2, ksize=[1,6,6,1], strides = [1,6,6,1], padding = \"SAME\")\n",
    "    #batch normalization for layer 2\n",
    "    B2 = tf.layers.batch_normalization(P2)\n",
    "    \n",
    "    #this is layer 3\n",
    "    Z3 = tf.nn.conv2d(B2, W3, strides = [1,1,1,1], padding = \"SAME\")\n",
    "    #activation for layer 3\n",
    "    A3 = tf.nn.relu(Z3)\n",
    "     #maxpool for layer 3 activation\n",
    "    P3=tf.nn.max_pool(A3, ksize=[1,4,4,1], strides = [1,4,4,1], padding = \"SAME\")\n",
    "    #batch normalization for layer 3\n",
    "    B3 = tf.layers.batch_normalization(P3)\n",
    "    \n",
    "    #this is layer 4\n",
    "    Z4 = tf.nn.conv2d(B3, W4, strides = [1,1,1,1], padding = \"SAME\")\n",
    "    #activation for layer 4\n",
    "    A4 = tf.nn.relu(Z4)\n",
    "     #maxpool for layer 3 activation\n",
    "    P4=tf.nn.max_pool(A4, ksize=[1,4,4,1], strides = [1,4,4,1], padding = \"SAME\")\n",
    "    #batch normalization for layer 3\n",
    "    B4 = tf.layers.batch_normalization(P4)\n",
    "    \n",
    "    F5 = tf.contrib.layers.flatten(B4)\n",
    "    #batch normalization for layer 4\n",
    "    B5 = tf.layers.batch_normalization(F5)\n",
    "    \n",
    "    \n",
    "    Z5 = tf.contrib.layers.fully_connected(B5, 10,activation_fn = None)\n",
    "    \n",
    "    return Z5\n",
    "    "
   ]
  },
  {
   "cell_type": "code",
   "execution_count": 45,
   "metadata": {},
   "outputs": [
    {
     "name": "stdout",
     "output_type": "stream",
     "text": [
      "Z4 = [[ 0.5963085  -1.0310383  -1.9929036   0.7032484   0.36728734  0.12181246\n",
      "  -0.1900527   1.2759746   1.0861664  -1.758242  ]\n",
      " [ 0.49846584 -0.9441631  -1.9418548   0.7999989   0.5412493  -0.21526346\n",
      "  -0.2625127   1.0749451   1.106831   -1.6952434 ]]\n"
     ]
    }
   ],
   "source": [
    "tf.reset_default_graph()\n",
    "\n",
    "with tf.Session() as sess:\n",
    "    np.random.seed(1)\n",
    "    X, Y = create_placeholders(64, 64, 3, 6)\n",
    "    parameters = init_params()\n",
    "    Z4 = forward_propagation(X, parameters)\n",
    "    \n",
    "    init = tf.global_variables_initializer()\n",
    "    sess.run(init)\n",
    "    a = sess.run(Z4, {X: np.random.randn(2,64,64,3), Y: np.random.randn(2,6)})\n",
    "    print(\"Z4 = \" + str(a))"
   ]
  },
  {
   "cell_type": "code",
   "execution_count": 69,
   "metadata": {},
   "outputs": [],
   "source": [
    "def compute_cost(Z5,Y):\n",
    "    cost=tf.reduce_mean(tf.nn.softmax_cross_entropy_with_logits(logits=Z5,labels=Y))\n",
    "    \n",
    "    return cost\n"
   ]
  },
  {
   "cell_type": "code",
   "execution_count": 70,
   "metadata": {},
   "outputs": [],
   "source": [
    "def load_test_batch():    \n",
    "    with open(cifar_dataset_path + '/test_batch', mode='rb') as file:\n",
    "                  # trying with Ncoding latin1\n",
    "                  batch = pickle.load(file,encoding='latin1')\n",
    "    features = batch['data'].reshape(len(batch['data']),3,32,32).transpose(0,2,3,1)\n",
    "    labels=np.array(batch['labels'])\n",
    "\n",
    "    return features, labels"
   ]
  },
  {
   "cell_type": "code",
   "execution_count": 93,
   "metadata": {},
   "outputs": [],
   "source": [
    "features, labels = load_test_batch()\n",
    "X_test,Y_test = preprocess_data(features, labels)"
   ]
  },
  {
   "cell_type": "code",
   "execution_count": 94,
   "metadata": {},
   "outputs": [],
   "source": [
    "def random_mini_batches(X,Y, mini_batch_size = 64, seed = 0):\n",
    "    m = X.shape[0]\n",
    "    mini_batches = []\n",
    "    np.random.seed(seed)\n",
    "    \n",
    "    # step 1:Shuffle X and Y\n",
    "    \n",
    "    permutation = list(np.random.permutation(m))\n",
    "    shuffled_X = X[permutation, :,:,:]\n",
    "    shuffled_Y = Y[permutation, :]\n",
    "    \n",
    "    num_complete_minibatches= math.floor(m/mini_batch_size)\n",
    "    for k in range(0, num_complete_minibatches):\n",
    "        \n",
    "        mini_batch_X = shuffled_X[k*mini_batch_size:k*mini_batch_size + mini_batch_size,:,:,:]\n",
    "        mini_batch_Y = shuffled_Y[k*mini_batch_size:k*mini_batch_size + mini_batch_size,:]\n",
    "        \n",
    "        mini_batch = (mini_batch_X,mini_batch_Y)\n",
    "        mini_batches.append(mini_batch)\n",
    "        \n",
    "    if m % mini_batch_size != 0:\n",
    "        mini_batch_X = shuffled_X[num_complete_minibatches*mini_batch_size:m,:,:,:]\n",
    "        mini_batch_Y = shuffled_Y[num_complete_minibatches*mini_batch_size:m,:]\n",
    "        mini_batch = (mini_batch_X, mini_batch_Y)\n",
    "        mini_batches.append(mini_batch)\n",
    "    \n",
    "    return mini_batches"
   ]
  },
  {
   "cell_type": "code",
   "execution_count": 95,
   "metadata": {},
   "outputs": [],
   "source": [
    "def model(X_train, Y_train, X_test, Y_test,\n",
    "          learning_rate = 0.009, num_epochs = 100,\n",
    "          minibatch_size = 150 , print_cost = True):\n",
    "    \"\"\"\n",
    "    Implements a four-layer ConvNet in Tensorflow:\n",
    "    CONV2D -> RELU -> MAXPOOL -> CONV2D -> RELU -> MAXPOOL -> CONV2D -> RELU -> MAXPOOL-> FLATTEN -> FULLYCONNECTED\n",
    "    \n",
    "    \"\"\"\n",
    "    \n",
    "    ops.reset_default_graph()\n",
    "    tf.set_random_seed(1)\n",
    "    seed=3\n",
    "    (m, n_H, n_W, n_C)=X_train.shape\n",
    "    n_Y= Y_train.shape[1]\n",
    "   \n",
    "    costs = []\n",
    "    \n",
    "    # initializing everything needed for running the session\n",
    "\n",
    "\n",
    " \n",
    "\n",
    "    #     1. placeholders for X and Y\n",
    "    X,Y=create_placeholders(n_H, n_W, n_C,n_Y)\n",
    "    \n",
    "    #     2.initialize parameters W1, W2, W3\n",
    "    parameters= init_params()\n",
    "    \n",
    "    #     3. compute the forwar prop for these values once\n",
    "    Z5=forward_propagation(X,parameters)\n",
    "    \n",
    "    #     4.compute the cost from the obtained Z4\n",
    "    cost = compute_cost(Z5,Y)\n",
    "    \n",
    "    #     5. choosing an optimizer\n",
    "    optimizer = tf.train.AdamOptimizer().minimize(cost)\n",
    "  \n",
    "    #     6.global variable initilized\n",
    "    init = tf.global_variables_initializer()\n",
    "    \n",
    "    \n",
    "    \n",
    "    with tf.Session() as sess:\n",
    "        \n",
    "        sess.run(init)\n",
    "        \n",
    "        for epoch in range(num_epochs):\n",
    "                features,labels = load_cifar10_batch(cifar_dataset_path,epoch%5+1)\n",
    "                X_train,Y_train = preprocess_data(features, labels)\n",
    "                minibatch_cost = 0.\n",
    "                num_minibatches = int(m/minibatch_size)\n",
    "                seed=seed+1\n",
    "                minibatches = random_mini_batches(X_train, Y_train, minibatch_size, seed) #need to implement random_mini_batches\n",
    "                \n",
    "                for minibatch in minibatches:\n",
    "                    \n",
    "                    (minibatch_X, minibatch_Y) = minibatch\n",
    "                    \n",
    "                    _ , temp_cost = sess.run([optimizer,cost], feed_dict = {X:minibatch_X, Y:minibatch_Y})\n",
    "                    \n",
    "                    minibatch_cost += temp_cost / num_minibatches\n",
    "                    \n",
    "                if print_cost == True and epoch %5 ==0:\n",
    "                    print(\"Cost after epoch %i: %f\" %(epoch,minibatch_cost))\n",
    "                if print_cost == True and epoch % 1 == 0:\n",
    "                    costs.append(minibatch_cost)\n",
    "        \n",
    "         # plot the cost\n",
    "        plt.plot(np.squeeze(costs))\n",
    "        plt.ylabel('cost')\n",
    "        plt.xlabel('iterations(per tens)')\n",
    "        plt.title(\"Learning rate = \"+str(learning_rate))\n",
    "        plt.show()\n",
    "        \n",
    "        # Calculate the correct predictions\n",
    "        predict_op = tf.argmax(Z5,1)\n",
    "        correct_prediction = tf.equal(predict_op, tf.argmax(Y,1))\n",
    "        \n",
    "        # Calculate accuracy on the test set\n",
    "        \n",
    "        accuracy = tf.reduce_mean(tf.cast(correct_prediction,\"float\"))\n",
    "        print(accuracy)\n",
    "        train_accuracy = accuracy.eval({X: X_train, Y:Y_train})\n",
    "        test_accuracy = accuracy.eval({X:X_test, Y:Y_test})\n",
    "        print(\"Train Accuracy:\", train_accuracy)\n",
    "        print(\"Test Accuracy:\", test_accuracy)\n",
    "        \n",
    "        return train_accuracy, test_accuracy, parameters\n",
    "    "
   ]
  },
  {
   "cell_type": "code",
   "execution_count": 38,
   "metadata": {},
   "outputs": [
    {
     "name": "stdout",
     "output_type": "stream",
     "text": [
      "Cost after epoch 0: 2.278493\n",
      "Cost after epoch 5: 1.735792\n",
      "Cost after epoch 10: 1.611680\n",
      "Cost after epoch 15: 1.548569\n",
      "Cost after epoch 20: 1.505792\n",
      "Cost after epoch 25: 1.470116\n",
      "Cost after epoch 30: 1.440269\n",
      "Cost after epoch 35: 1.423790\n",
      "Cost after epoch 40: 1.396061\n",
      "Cost after epoch 45: 1.373207\n",
      "Cost after epoch 50: 1.359072\n",
      "Cost after epoch 55: 1.335066\n",
      "Cost after epoch 60: 1.327017\n",
      "Cost after epoch 65: 1.318056\n",
      "Cost after epoch 70: 1.303249\n",
      "Cost after epoch 75: 1.290341\n",
      "Cost after epoch 80: 1.283232\n",
      "Cost after epoch 85: 1.271781\n",
      "Cost after epoch 90: 1.261452\n",
      "Cost after epoch 95: 1.257280\n"
     ]
    },
    {
     "data": {
      "image/png": "[encoded data removed]",
      "text/plain": [
       "<Figure size 432x288 with 1 Axes>"
      ]
     },
     "metadata": {
      "needs_background": "light"
     },
     "output_type": "display_data"
    },
    {
     "ename": "NameError",
     "evalue": "name 'Z3' is not defined",
     "output_type": "error",
     "traceback": [
      "\u001b[1;31m---------------------------------------------------------------------------\u001b[0m",
      "\u001b[1;31mNameError\u001b[0m                                 Traceback (most recent call last)",
      "\u001b[1;32m<ipython-input-38-ddfc1f084c11>\u001b[0m in \u001b[0;36m<module>\u001b[1;34m\u001b[0m\n\u001b[1;32m----> 1\u001b[1;33m \u001b[0m_\u001b[0m\u001b[1;33m,\u001b[0m \u001b[0m_\u001b[0m\u001b[1;33m,\u001b[0m \u001b[0mparameters\u001b[0m \u001b[1;33m=\u001b[0m \u001b[0mmodel\u001b[0m\u001b[1;33m(\u001b[0m\u001b[0mX_train\u001b[0m\u001b[1;33m,\u001b[0m \u001b[0mY_train\u001b[0m\u001b[1;33m,\u001b[0m \u001b[0mX_test\u001b[0m\u001b[1;33m,\u001b[0m \u001b[0mY_test\u001b[0m\u001b[1;33m)\u001b[0m\u001b[1;33m\u001b[0m\u001b[0m\n\u001b[0m",
      "\u001b[1;32m<ipython-input-37-b7529018f47b>\u001b[0m in \u001b[0;36mmodel\u001b[1;34m(X_train, Y_train, X_test, Y_test, learning_rate, num_epochs, minibatch_size, print_cost)\u001b[0m\n\u001b[0;32m     73\u001b[0m \u001b[1;33m\u001b[0m\u001b[0m\n\u001b[0;32m     74\u001b[0m         \u001b[1;31m# Calculate the correct predictions\u001b[0m\u001b[1;33m\u001b[0m\u001b[1;33m\u001b[0m\u001b[0m\n\u001b[1;32m---> 75\u001b[1;33m         \u001b[0mpredict_op\u001b[0m \u001b[1;33m=\u001b[0m \u001b[0mtf\u001b[0m\u001b[1;33m.\u001b[0m\u001b[0margmax\u001b[0m\u001b[1;33m(\u001b[0m\u001b[0mZ3\u001b[0m\u001b[1;33m,\u001b[0m\u001b[1;36m1\u001b[0m\u001b[1;33m)\u001b[0m\u001b[1;33m\u001b[0m\u001b[0m\n\u001b[0m\u001b[0;32m     76\u001b[0m         \u001b[0mcorrect_prediction\u001b[0m \u001b[1;33m=\u001b[0m \u001b[0mtf\u001b[0m\u001b[1;33m.\u001b[0m\u001b[0mequal\u001b[0m\u001b[1;33m(\u001b[0m\u001b[0mpredict_op\u001b[0m\u001b[1;33m,\u001b[0m \u001b[0mtf\u001b[0m\u001b[1;33m.\u001b[0m\u001b[0margmax\u001b[0m\u001b[1;33m(\u001b[0m\u001b[0mY\u001b[0m\u001b[1;33m,\u001b[0m\u001b[1;36m1\u001b[0m\u001b[1;33m)\u001b[0m\u001b[1;33m)\u001b[0m\u001b[1;33m\u001b[0m\u001b[0m\n\u001b[0;32m     77\u001b[0m \u001b[1;33m\u001b[0m\u001b[0m\n",
      "\u001b[1;31mNameError\u001b[0m: name 'Z3' is not defined"
     ]
    }
   ],
   "source": [
    "_, _, parameters = model(X_train, Y_train, X_test, Y_test) # model run without batchnormalization, batch size =64 \n",
    "# learning_rate = 0.009, num_epochs = 100"
   ]
  },
  {
   "cell_type": "code",
   "execution_count": 49,
   "metadata": {},
   "outputs": [
    {
     "name": "stdout",
     "output_type": "stream",
     "text": [
      "Cost after epoch 0: 2.304753\n",
      "Cost after epoch 5: 1.665542\n",
      "Cost after epoch 10: 1.545778\n",
      "Cost after epoch 15: 1.456869\n",
      "Cost after epoch 20: 1.377801\n",
      "Cost after epoch 25: 1.319812\n",
      "Cost after epoch 30: 1.270338\n",
      "Cost after epoch 35: 1.231796\n",
      "Cost after epoch 40: 1.188164\n",
      "Cost after epoch 45: 1.153887\n",
      "Cost after epoch 50: 1.130920\n",
      "Cost after epoch 55: 1.098998\n",
      "Cost after epoch 60: 1.078168\n",
      "Cost after epoch 65: 1.054109\n",
      "Cost after epoch 70: 1.032752\n",
      "Cost after epoch 75: 1.012920\n",
      "Cost after epoch 80: 0.992608\n",
      "Cost after epoch 85: 0.972937\n",
      "Cost after epoch 90: 0.966906\n",
      "Cost after epoch 95: 0.945104\n"
     ]
    },
    {
     "data": {
      "image/png": "[encoded data removed]",
      "text/plain": [
       "<Figure size 432x288 with 1 Axes>"
      ]
     },
     "metadata": {
      "needs_background": "light"
     },
     "output_type": "display_data"
    },
    {
     "name": "stdout",
     "output_type": "stream",
     "text": [
      "Tensor(\"Mean_1:0\", shape=(), dtype=float32)\n",
      "Train Accuracy: 0.6823\n"
     ]
    },
    {
     "ename": "NameError",
     "evalue": "name 'test_accuracy' is not defined",
     "output_type": "error",
     "traceback": [
      "\u001b[1;31m---------------------------------------------------------------------------\u001b[0m",
      "\u001b[1;31mNameError\u001b[0m                                 Traceback (most recent call last)",
      "\u001b[1;32m<ipython-input-49-f91eea4dadea>\u001b[0m in \u001b[0;36m<module>\u001b[1;34m\u001b[0m\n\u001b[1;32m----> 1\u001b[1;33m \u001b[0m_\u001b[0m\u001b[1;33m,\u001b[0m \u001b[0m_\u001b[0m\u001b[1;33m,\u001b[0m \u001b[0mparameters\u001b[0m \u001b[1;33m=\u001b[0m \u001b[0mmodel\u001b[0m\u001b[1;33m(\u001b[0m\u001b[0mX_train\u001b[0m\u001b[1;33m,\u001b[0m \u001b[0mY_train\u001b[0m\u001b[1;33m,\u001b[0m \u001b[0mX_test\u001b[0m\u001b[1;33m,\u001b[0m \u001b[0mY_test\u001b[0m\u001b[1;33m)\u001b[0m \u001b[1;31m# model run with batchnormalization, batch size =150\u001b[0m\u001b[1;33m\u001b[0m\u001b[0m\n\u001b[0m\u001b[0;32m      2\u001b[0m \u001b[1;31m# learning_rate = 0.009, num_epochs = 100\u001b[0m\u001b[1;33m\u001b[0m\u001b[1;33m\u001b[0m\u001b[0m\n",
      "\u001b[1;32m<ipython-input-48-948485879d1f>\u001b[0m in \u001b[0;36mmodel\u001b[1;34m(X_train, Y_train, X_test, Y_test, learning_rate, num_epochs, minibatch_size, print_cost)\u001b[0m\n\u001b[0;32m     83\u001b[0m         \u001b[0mtrain_accuracy\u001b[0m \u001b[1;33m=\u001b[0m \u001b[0maccuracy\u001b[0m\u001b[1;33m.\u001b[0m\u001b[0meval\u001b[0m\u001b[1;33m(\u001b[0m\u001b[1;33m{\u001b[0m\u001b[0mX\u001b[0m\u001b[1;33m:\u001b[0m\u001b[0mX_train\u001b[0m\u001b[1;33m,\u001b[0m \u001b[0mY\u001b[0m\u001b[1;33m:\u001b[0m\u001b[0mY_train\u001b[0m\u001b[1;33m}\u001b[0m\u001b[1;33m)\u001b[0m\u001b[1;33m\u001b[0m\u001b[0m\n\u001b[0;32m     84\u001b[0m         \u001b[0mprint\u001b[0m\u001b[1;33m(\u001b[0m\u001b[1;34m\"Train Accuracy:\"\u001b[0m\u001b[1;33m,\u001b[0m \u001b[0mtrain_accuracy\u001b[0m\u001b[1;33m)\u001b[0m\u001b[1;33m\u001b[0m\u001b[0m\n\u001b[1;32m---> 85\u001b[1;33m         \u001b[0mprint\u001b[0m\u001b[1;33m(\u001b[0m\u001b[1;34m\"Test Accuracy:\"\u001b[0m\u001b[1;33m,\u001b[0m \u001b[0mtest_accuracy\u001b[0m\u001b[1;33m)\u001b[0m\u001b[1;33m\u001b[0m\u001b[0m\n\u001b[0m\u001b[0;32m     86\u001b[0m \u001b[1;33m\u001b[0m\u001b[0m\n\u001b[0;32m     87\u001b[0m         \u001b[1;32mreturn\u001b[0m \u001b[0mtrain_accuracy\u001b[0m\u001b[1;33m,\u001b[0m \u001b[0mtest_accuracy\u001b[0m\u001b[1;33m,\u001b[0m \u001b[0mparameters\u001b[0m\u001b[1;33m\u001b[0m\u001b[0m\n",
      "\u001b[1;31mNameError\u001b[0m: name 'test_accuracy' is not defined"
     ]
    }
   ],
   "source": [
    "_, _, parameters = model(X_train, Y_train, X_test, Y_test) # model run with batchnormalization, batch size =150\n",
    "# learning_rate = 0.009, num_epochs = 100"
   ]
  },
  {
   "cell_type": "code",
   "execution_count": 66,
   "metadata": {},
   "outputs": [
    {
     "name": "stdout",
     "output_type": "stream",
     "text": [
      "Cost after epoch 0: 2.291982\n",
      "Cost after epoch 5: 1.663958\n",
      "Cost after epoch 10: 1.528001\n",
      "Cost after epoch 15: 1.431306\n",
      "Cost after epoch 20: 1.363509\n",
      "Cost after epoch 25: 1.319430\n",
      "Cost after epoch 30: 1.277431\n",
      "Cost after epoch 35: 1.251543\n",
      "Cost after epoch 40: 1.220004\n",
      "Cost after epoch 45: 1.194422\n",
      "Cost after epoch 50: 1.192769\n",
      "Cost after epoch 55: 1.158833\n",
      "Cost after epoch 60: 1.146256\n",
      "Cost after epoch 65: 1.123563\n",
      "Cost after epoch 70: 1.113322\n",
      "Cost after epoch 75: 1.101071\n",
      "Cost after epoch 80: 1.089923\n",
      "Cost after epoch 85: 1.070504\n",
      "Cost after epoch 90: 1.070236\n",
      "Cost after epoch 95: 1.056487\n"
     ]
    },
    {
     "data": {
      "image/png": "[encoded data removed]",
      "text/plain": [
       "<Figure size 432x288 with 1 Axes>"
      ]
     },
     "metadata": {
      "needs_background": "light"
     },
     "output_type": "display_data"
    },
    {
     "name": "stdout",
     "output_type": "stream",
     "text": [
      "Tensor(\"Mean_1:0\", shape=(), dtype=float32)\n",
      "Train Accuracy: 0.6466\n",
      "Test Accuracy: 0.6466\n"
     ]
    }
   ],
   "source": [
    "_, _, parameters = model(X_train, Y_train, X_test, Y_test) # model run with batchnormalization, batch size =150\n",
    "# learning_rate = 0.009, num_epochs = 100 W1= 6x6, W2 = 4x4, W3 = 2x2, maxpooling layers also the same "
   ]
  },
  {
   "cell_type": "code",
   "execution_count": 73,
   "metadata": {},
   "outputs": [
    {
     "name": "stdout",
     "output_type": "stream",
     "text": [
      "Cost after epoch 0: 2.127348\n",
      "Cost after epoch 5: 1.475522\n",
      "Cost after epoch 10: 1.182397\n",
      "Cost after epoch 15: 0.940254\n",
      "Cost after epoch 20: 0.718085\n",
      "Cost after epoch 25: 0.496026\n",
      "Cost after epoch 30: 0.380746\n",
      "Cost after epoch 35: 0.288565\n",
      "Cost after epoch 40: 0.108732\n",
      "Cost after epoch 45: 0.067106\n",
      "Cost after epoch 50: 0.005131\n",
      "Cost after epoch 55: 0.002792\n",
      "Cost after epoch 60: 0.001303\n",
      "Cost after epoch 65: 0.000879\n",
      "Cost after epoch 70: 0.000619\n",
      "Cost after epoch 75: 0.000446\n",
      "Cost after epoch 80: 0.000327\n",
      "Cost after epoch 85: 0.000239\n",
      "Cost after epoch 90: 0.000164\n",
      "Cost after epoch 95: 0.000121\n"
     ]
    },
    {
     "data": {
      "image/png": "[encoded data removed]",
      "text/plain": [
       "<Figure size 432x288 with 1 Axes>"
      ]
     },
     "metadata": {
      "needs_background": "light"
     },
     "output_type": "display_data"
    },
    {
     "name": "stdout",
     "output_type": "stream",
     "text": [
      "Tensor(\"Mean_1:0\", shape=(), dtype=float32)\n",
      "Train Accuracy: 1.0\n",
      "Test Accuracy: 1.0\n"
     ]
    }
   ],
   "source": [
    "_, _, parameters = model(X_train, Y_train, X_test, Y_test) # model run with batchnormalization, batch size =150\n",
    "# num_epochs = 100 totaly different parameters, more filters, another layer, slower learning rate = 0.004"
   ]
  },
  {
   "cell_type": "code",
   "execution_count": 88,
   "metadata": {},
   "outputs": [
    {
     "name": "stdout",
     "output_type": "stream",
     "text": [
      "Cost after epoch 0: 2.127348\n",
      "Cost after epoch 5: 1.475522\n",
      "Cost after epoch 10: 1.182397\n",
      "Cost after epoch 15: 0.940254\n",
      "Cost after epoch 20: 0.718085\n",
      "Cost after epoch 25: 0.496026\n",
      "Cost after epoch 30: 0.380746\n",
      "Cost after epoch 35: 0.288565\n"
     ]
    },
    {
     "data": {
      "image/png": "[encoded data removed]",
      "text/plain": [
       "<Figure size 432x288 with 1 Axes>"
      ]
     },
     "metadata": {
      "needs_background": "light"
     },
     "output_type": "display_data"
    },
    {
     "name": "stdout",
     "output_type": "stream",
     "text": [
      "Tensor(\"Mean_1:0\", shape=(), dtype=float32)\n",
      "Train Accuracy: 0.9867\n",
      "Test Accuracy: 0.9867\n"
     ]
    }
   ],
   "source": [
    "_, _, parameters = model(X_train, Y_train, X_test, Y_test, learning_rate = 0.004 , num_epochs = 40) # model run with batchnormalization, batch size =150 \n",
    "# num_epochs = 50 totaly different parameters, more filters, another layer, slower learning rate = 0.004\n",
    "# using a new batch of cifar dataset for each epoch "
   ]
  },
  {
   "cell_type": "markdown",
   "metadata": {},
   "source": [
    "This one overfitts dramatically, trying it with all batches to see how increasing data does something, here using a variety of data, it still stops , it has bumbps all over, maybe regularization might help"
   ]
  },
  {
   "cell_type": "code",
   "execution_count": 98,
   "metadata": {},
   "outputs": [
    {
     "name": "stdout",
     "output_type": "stream",
     "text": [
      "Cost after epoch 0: 2.159791\n",
      "Cost after epoch 5: 1.525712\n",
      "Cost after epoch 10: 1.253495\n",
      "Cost after epoch 15: 1.130843\n",
      "Cost after epoch 20: 1.030131\n",
      "Cost after epoch 25: 0.982303\n",
      "Cost after epoch 30: 0.894730\n",
      "Cost after epoch 35: 0.837079\n"
     ]
    },
    {
     "data": {
      "image/png": "[encoded data removed]",
      "text/plain": [
       "<Figure size 432x288 with 1 Axes>"
      ]
     },
     "metadata": {
      "needs_background": "light"
     },
     "output_type": "display_data"
    },
    {
     "name": "stdout",
     "output_type": "stream",
     "text": [
      "Tensor(\"Mean_1:0\", shape=(), dtype=float32)\n",
      "Train Accuracy: 0.7605\n",
      "Test Accuracy: 0.6796\n"
     ]
    }
   ],
   "source": [
    "_, _, parameters = model(X_train, Y_train, X_test, Y_test, learning_rate = 0.001 , num_epochs = 40) # model run with batchnormalization, batch size =150 \n",
    "# num_epochs = 50 totaly different parameters, more filters, another layer, slower learning rate = 0.004\n",
    "# using a new batch of cifar dataset for each epoch"
   ]
  },
  {
   "cell_type": "code",
   "execution_count": 99,
   "metadata": {},
   "outputs": [
    {
     "name": "stdout",
     "output_type": "stream",
     "text": [
      "Cost after epoch 0: 2.159791\n",
      "Cost after epoch 5: 1.525712\n",
      "Cost after epoch 10: 1.253495\n",
      "Cost after epoch 15: 1.130843\n",
      "Cost after epoch 20: 1.030131\n",
      "Cost after epoch 25: 0.982303\n",
      "Cost after epoch 30: 0.894730\n",
      "Cost after epoch 35: 0.837079\n",
      "Cost after epoch 40: 0.791891\n",
      "Cost after epoch 45: 0.739929\n",
      "Cost after epoch 50: 0.718401\n",
      "Cost after epoch 55: 0.703880\n"
     ]
    },
    {
     "data": {
      "image/png": "[encoded data removed]",
      "text/plain": [
       "<Figure size 432x288 with 1 Axes>"
      ]
     },
     "metadata": {
      "needs_background": "light"
     },
     "output_type": "display_data"
    },
    {
     "name": "stdout",
     "output_type": "stream",
     "text": [
      "Tensor(\"Mean_1:0\", shape=(), dtype=float32)\n",
      "Train Accuracy: 0.8227\n",
      "Test Accuracy: 0.6981\n"
     ]
    }
   ],
   "source": [
    "_, _, parameters = model(X_train, Y_train, X_test, Y_test, learning_rate = 0.0005 , num_epochs = 60) # model run with batchnormalization, batch size =150 \n",
    "# num_epochs = 60 totaly different parameters, more filters, another layer, slower learning rate = 0.005\n",
    "# using a new batch of cifar dataset for each epoch"
   ]
  },
  {
   "cell_type": "code",
   "execution_count": null,
   "metadata": {},
   "outputs": [],
   "source": []
  }
 ],
 "metadata": {
  "kernelspec": {
   "display_name": "Python 3",
   "language": "python",
   "name": "python3"
  },
  "language_info": {
   "codemirror_mode": {
    "name": "ipython",
    "version": 3
   },
   "file_extension": ".py",
   "mimetype": "text/x-python",
   "name": "python",
   "nbconvert_exporter": "python",
   "pygments_lexer": "ipython3",
   "version": "3.5.6"
  }
 },
 "nbformat": 4,
 "nbformat_minor": 2
}
